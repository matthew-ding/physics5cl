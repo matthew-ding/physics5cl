{
 "cells": [
  {
   "cell_type": "code",
   "execution_count": 2,
   "id": "acd64b32-e5c5-46b9-bd50-ab2fa66dfd4b",
   "metadata": {},
   "outputs": [],
   "source": [
    "import numpy as np\n",
    "import scipy\n",
    "from scipy.optimize import curve_fit\n",
    "from scipy.interpolate import interp1d\n",
    "import matplotlib\n",
    "import math\n",
    "import matplotlib.pyplot as plt\n",
    "\n",
    "def linearFunc(x,intercept,slope):\n",
    "    y = intercept + slope * x\n",
    "    return y"
   ]
  },
  {
   "cell_type": "markdown",
   "id": "273cbe11-cc7e-4a10-ab01-e6ce0fdae181",
   "metadata": {},
   "source": [
    "# Experiment 3"
   ]
  },
  {
   "cell_type": "code",
   "execution_count": 3,
   "id": "03890bc1-3b29-4bf7-bf6e-b9464a9fa5c2",
   "metadata": {},
   "outputs": [
    {
     "name": "stdout",
     "output_type": "stream",
     "text": [
      "Experimental Planck Constant (eV*s):  ['4.70e-15', '6.20e-15', '1.28e-14']\n",
      "Theoretical Planck Constant (eV*s):  4.14e-15\n"
     ]
    }
   ],
   "source": [
    "stopping_voltage = np.array([-880, -625, -300]) # blue, green, red, in mV\n",
    "K_max = -1/1000*stopping_voltage # max electron energy in eV\n",
    "frequency = 3e8/(np.array([462, 533, 618])*1e-9) # blue, green, red, in Hz\n",
    "threshold_frequency = 4.62e14 # Hz\n",
    "\n",
    "planck_constant = K_max / (frequency - threshold_frequency)\n",
    "rounded_planck = ['{:0.2e}'.format(p) for p in planck_constant]\n",
    "print(\"Experimental Planck Constant (eV*s): \", rounded_planck)\n",
    "print(\"Theoretical Planck Constant (eV*s): \", 4.14e-15)"
   ]
  },
  {
   "cell_type": "code",
   "execution_count": 48,
   "id": "03606c48-c186-40e7-987c-1e0ad02d6618",
   "metadata": {},
   "outputs": [
    {
     "data": {
      "text/plain": [
       "[<matplotlib.lines.Line2D at 0x17d8fcac0>]"
      ]
     },
     "execution_count": 48,
     "metadata": {},
     "output_type": "execute_result"
    },
    {
     "data": {
      "image/png": "[encoded data removed]",
      "text/plain": [
       "<Figure size 432x288 with 1 Axes>"
      ]
     },
     "metadata": {
      "needs_background": "light"
     },
     "output_type": "display_data"
    }
   ],
   "source": [
    "wavelength = np.array([462, 533, 618])\n",
    "plt.scatter(wavelength, K_max)\n",
    "plt.xlabel('Wavelength (nm)')\n",
    "plt.ylabel('Max Kinetic Energy (eV)')\n",
    "plt.title('Max KE of electrons vs. wavelength')\n",
    "\n",
    "a_fit,cov=curve_fit(linearFunc,wavelength,K_max)\n",
    "inter = a_fit[0]\n",
    "slope = a_fit[1]\n",
    "yfit = inter + slope*wavelength\n",
    "plt.plot(wavelength,yfit,label='Fit')"
   ]
  },
  {
   "cell_type": "markdown",
   "id": "f45d2edb-d622-4506-a4d6-5c563f146c31",
   "metadata": {},
   "source": [
    "a. We use 462, 533, and 618 nm for blue, green, and red respectively, all with +/- 10 nm error. These are the values given to us in the lab, and is likely more accurate than what we can measure with our equipment."
   ]
  },
  {
   "cell_type": "markdown",
   "id": "a7c3f37b-cc1a-4028-98a2-0f3d1cd7b43b",
   "metadata": {},
   "source": [
    "b. We measured cutoff frequencies of -880, -625, -300 mV for blue, green, and red LEDs respectively. The measurement uncertainty of the voltage is approximately +/- 20 mV, which we estimate due to the zero offset error from the phototube and the relative fluctuations of current that we observed."
   ]
  },
  {
   "cell_type": "markdown",
   "id": "48755326-0b85-4e2a-96ae-1570e2698356",
   "metadata": {},
   "source": [
    "c. The threshold voltage is given to us as 4.62e14. Since this is a given value, we assume the error is 0, as the actual error is likely to be something much much smaller than our own experimental error."
   ]
  },
  {
   "cell_type": "code",
   "execution_count": 31,
   "id": "b1583641-6f24-4e77-96a1-5ffb080eb7ce",
   "metadata": {},
   "outputs": [
    {
     "name": "stdout",
     "output_type": "stream",
     "text": [
      "Planck constant uncertainties (eV*s):  ['1.47e-16', '2.30e-16', '8.78e-16']\n",
      "Work function uncertainties (eV):  [0.068 0.106 0.406]\n"
     ]
    }
   ],
   "source": [
    "wavelength_err = 10e-9 # m\n",
    "wavelength = np.array([462, 533, 618])*1e-9 # m\n",
    "frequency_err = 3e8*1/wavelength**2*wavelength_err # Hz\n",
    "voltage_err = 20 # mV\n",
    "K_max_err = 1/1000*voltage_err  # J\n",
    "\n",
    "planck_err = planck_constant * np.sqrt((K_max_err/K_max)**2 + (frequency_err / frequency)**2) # error propagation\n",
    "rounded_planck_err = ['{:0.2e}'.format(p) for p in planck_err]\n",
    "print(\"Planck constant uncertainties (eV*s): \", rounded_planck_err) \n",
    "print(\"Work function uncertainties (eV): \", np.round(threshold_frequency*planck_err,3))"
   ]
  },
  {
   "cell_type": "code",
   "execution_count": null,
   "id": "418c0244-84fa-4882-9135-e2f75a66fc6b",
   "metadata": {},
   "outputs": [],
   "source": []
  }
 ],
 "metadata": {
  "kernelspec": {
   "display_name": "Python 3 (ipykernel)",
   "language": "python",
   "name": "python3"
  },
  "language_info": {
   "codemirror_mode": {
    "name": "ipython",
    "version": 3
   },
   "file_extension": ".py",
   "mimetype": "text/x-python",
   "name": "python",
   "nbconvert_exporter": "python",
   "pygments_lexer": "ipython3",
   "version": "3.10.1"
  }
 },
 "nbformat": 4,
 "nbformat_minor": 5
}
