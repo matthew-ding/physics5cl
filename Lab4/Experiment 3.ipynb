{
 "cells": [
  {
   "cell_type": "code",
   "execution_count": 19,
   "id": "acd64b32-e5c5-46b9-bd50-ab2fa66dfd4b",
   "metadata": {},
   "outputs": [],
   "source": [
    "import numpy as np\n",
    "import scipy\n",
    "import scipy.optimize as opt\n",
    "from scipy.interpolate import interp1d\n",
    "import matplotlib\n",
    "import math\n",
    "import matplotlib.pyplot as plt"
   ]
  },
  {
   "cell_type": "markdown",
   "id": "273cbe11-cc7e-4a10-ab01-e6ce0fdae181",
   "metadata": {},
   "source": [
    "# Section 3.1"
   ]
  },
  {
   "cell_type": "code",
   "execution_count": 18,
   "id": "03890bc1-3b29-4bf7-bf6e-b9464a9fa5c2",
   "metadata": {},
   "outputs": [
    {
     "name": "stdout",
     "output_type": "stream",
     "text": [
      "Experimental Planck Constant:  [4.69707473e-15 6.19721323e-15 1.28003314e-14]\n",
      "Theoretical Planck Constant:  4.14e-15\n"
     ]
    }
   ],
   "source": [
    "stopping_voltage = np.array([-880, -625, -300]) # blue, green, red, in mV\n",
    "K_max = -1/1000*stopping_voltage # max electron energy in eV\n",
    "frequency = 3e8/(np.array([462, 533, 618])*1e-9) # blue, green, red, in Hz\n",
    "threshold_frequency = 4.62e14 # Hz\n",
    "\n",
    "planck_constant = K_max / (frequency - threshold_frequency)\n",
    "print(\"Experimental Planck Constant: \", planck_constant)\n",
    "print(\"Theoretical Planck Constant: \", 4.14e-15)"
   ]
  },
  {
   "cell_type": "markdown",
   "id": "6bdbf0ce-c0bc-4dd7-ac2b-a8fc0e8f057f",
   "metadata": {},
   "source": [
    "# Section 3.2"
   ]
  },
  {
   "cell_type": "markdown",
   "id": "f45d2edb-d622-4506-a4d6-5c563f146c31",
   "metadata": {},
   "source": [
    "a. We use 462, 533, and 618 nm for blue, green, and red respectively, all with +/- 10 nm error. These are the values given to us in the lab, and is likely more accurate than what we can measure with our equipment."
   ]
  },
  {
   "cell_type": "markdown",
   "id": "a7c3f37b-cc1a-4028-98a2-0f3d1cd7b43b",
   "metadata": {},
   "source": [
    "b."
   ]
  }
 ],
 "metadata": {
  "kernelspec": {
   "display_name": "Python 3 (ipykernel)",
   "language": "python",
   "name": "python3"
  },
  "language_info": {
   "codemirror_mode": {
    "name": "ipython",
    "version": 3
   },
   "file_extension": ".py",
   "mimetype": "text/x-python",
   "name": "python",
   "nbconvert_exporter": "python",
   "pygments_lexer": "ipython3",
   "version": "3.10.1"
  }
 },
 "nbformat": 4,
 "nbformat_minor": 5
}
