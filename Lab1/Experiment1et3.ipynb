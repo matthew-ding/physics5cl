{
 "cells": [
  {
   "cell_type": "code",
   "execution_count": 2,
   "id": "66d16537",
   "metadata": {},
   "outputs": [],
   "source": [
    "import numpy as np\n",
    "import scipy\n",
    "import scipy.optimize as opt\n",
    "from scipy.interpolate import interp1d\n",
    "import matplotlib\n",
    "import math\n",
    "import matplotlib.pyplot as plt"
   ]
  },
  {
   "cell_type": "markdown",
   "id": "634334ea",
   "metadata": {},
   "source": [
    "# Experiment 3.1"
   ]
  },
  {
   "cell_type": "code",
   "execution_count": 117,
   "id": "cbee07fc",
   "metadata": {},
   "outputs": [],
   "source": [
    "lens_b_focus = 15.1\n",
    "lens_d_distance_object = np.linspace(18.9, 18.9, 6)\n",
    "lens_b_distance_image = np.array([37.9, 28.8, 44.35, 32.15, 45.7, 30.6])\n",
    "d_b = np.array([16.4, 23.7, 14.2, 20.1, 13.9, 21.7])"
   ]
  },
  {
   "cell_type": "code",
   "execution_count": 118,
   "id": "f12e1efa",
   "metadata": {},
   "outputs": [
    {
     "data": {
      "text/plain": [
       "array([25.1004386 , 31.74306569, 22.89521368, 28.47302053, 22.55130719,\n",
       "       29.81032258])"
      ]
     },
     "execution_count": 118,
     "metadata": {},
     "output_type": "execute_result"
    }
   ],
   "source": [
    "lens_b_distance_object = 1/(1/lens_b_focus - 1/lens_b_distance_image)\n",
    "lens_b_distance_object"
   ]
  },
  {
   "cell_type": "code",
   "execution_count": 119,
   "id": "7f784a7e",
   "metadata": {},
   "outputs": [
    {
     "data": {
      "image/png": "[encoded data removed]",
      "text/plain": [
       "<Figure size 720x720 with 1 Axes>"
      ]
     },
     "metadata": {
      "needs_background": "light"
     },
     "output_type": "display_data"
    },
    {
     "name": "stdout",
     "output_type": "stream",
     "text": [
      "Covariance matrix is [[ 2.92396041e-05 -2.92396041e-05]\n",
      " [-2.92396041e-05  2.92396041e-05]]\n",
      "Covariance is -2.923960409092274e-05\n",
      "Coefficient of linear correlation is -1.2000000000000002\n"
     ]
    }
   ],
   "source": [
    "fig, ax = plt.subplots(figsize=(10, 10))\n",
    "x_b = 1/lens_b_distance_object\n",
    "y_b = 1/lens_b_distance_image\n",
    "plt.scatter(x_b,y_b, marker = '.')\n",
    "matrix = np.stack((x_b, y_b), axis=0)\n",
    "covariance=np.cov(matrix)\n",
    "plt.xlabel('1/Distance Object')\n",
    "plt.ylabel('1/Distance Image')\n",
    "plt.title('1/Distance Image vs 1/Distance Object for Lens B')\n",
    "plt.show()\n",
    "\n",
    "print('Covariance matrix is', covariance)\n",
    "print('Covariance is', covariance[0][1])\n",
    "print('Coefficient of linear correlation is',covariance[0][1]/(np.std(x_b)*np.std(y_b)))\n",
    "#Well supported data"
   ]
  },
  {
   "cell_type": "code",
   "execution_count": 120,
   "id": "543e0876",
   "metadata": {},
   "outputs": [
    {
     "data": {
      "text/plain": [
       "array([-8.7004386 , -8.04306569, -8.69521368, -8.37302053, -8.65130719,\n",
       "       -8.11032258])"
      ]
     },
     "execution_count": 120,
     "metadata": {},
     "output_type": "execute_result"
    }
   ],
   "source": [
    "lens_d_distance_image = d_b-lens_b_distance_object\n",
    "lens_d_distance_image\n"
   ]
  },
  {
   "cell_type": "code",
   "execution_count": 121,
   "id": "219ebc60",
   "metadata": {},
   "outputs": [
    {
     "data": {
      "text/plain": [
       "array([-16.12209417, -14.00155305, -16.10416262, -15.03281054,\n",
       "       -15.95420108, -14.20664315])"
      ]
     },
     "execution_count": 121,
     "metadata": {},
     "output_type": "execute_result"
    }
   ],
   "source": [
    "focus = 1/(1/lens_d_distance_object+1/lens_d_distance_image)\n",
    "focus"
   ]
  },
  {
   "cell_type": "markdown",
   "id": "ff60be6e",
   "metadata": {},
   "source": [
    "# Experiment 3.2"
   ]
  },
  {
   "cell_type": "code",
   "execution_count": 122,
   "id": "b9e6d786",
   "metadata": {},
   "outputs": [
    {
     "name": "stdout",
     "output_type": "stream",
     "text": [
      "Radius of curvature is 21.0\n"
     ]
    }
   ],
   "source": [
    "i_distance = np.array([23.5, 23.4, 23.7, 23.5, 23.5])\n",
    "o_distance = np.array([18.9, 19, 19.1, 18.9, 18.9])\n",
    "radius = 2/(1/i_distance+1/o_distance)\n",
    "print(\"Radius of curvature is\", np.round(np.mean(radius), 2))"
   ]
  },
  {
   "cell_type": "markdown",
   "id": "65eb7921",
   "metadata": {},
   "source": [
    "# Experiment 1"
   ]
  },
  {
   "cell_type": "code",
   "execution_count": 123,
   "id": "3817c887",
   "metadata": {},
   "outputs": [],
   "source": [
    "def ex3model(x, B):\n",
    "    return -x+B"
   ]
  },
  {
   "cell_type": "code",
   "execution_count": 151,
   "id": "26fb1923",
   "metadata": {},
   "outputs": [
    {
     "data": {
      "image/png": "[encoded data removed]",
      "text/plain": [
       "<Figure size 432x288 with 1 Axes>"
      ]
     },
     "metadata": {
      "needs_background": "light"
     },
     "output_type": "display_data"
    },
    {
     "name": "stdout",
     "output_type": "stream",
     "text": [
      "Covariance matrix is [[ 0.01860618 -0.01935348]\n",
      " [-0.01935348  0.02013126]]\n",
      "Covariance is -0.01935347776251214\n",
      "Coefficient of linear correlation is -1.499982493183927\n"
     ]
    }
   ],
   "source": [
    "distance_object = np.array([24, -5.45, 16])\n",
    "distance_image = np.array([43.5, 3.9, -20588.6])\n",
    "x = 1/distance_object\n",
    "y= 1/distance_image\n",
    "matrix = np.stack((x, y), axis=0)\n",
    "covariance=np.cov(matrix)\n",
    "plt.scatter(x,y, marker = '.')\n",
    "plt.xlabel('1/Distance to Object')\n",
    "plt.ylabel('1/Distance to Image')\n",
    "plt.title('1/D_i vs 1/D_o for Lens B')\n",
    "plt.show()\n",
    "print('Covariance matrix is', covariance)\n",
    "print('Covariance is', covariance[0][1])\n",
    "print('Coefficient of linear correlation is',covariance[0][1]/(np.std(x)*np.std(y)))\n",
    "#Well supported data"
   ]
  },
  {
   "cell_type": "code",
   "execution_count": 154,
   "id": "2a155d95",
   "metadata": {},
   "outputs": [
    {
     "name": "stdout",
     "output_type": "stream",
     "text": [
      "Error after removing x [1.70293864 1.62788206 1.41421356]\n"
     ]
    }
   ],
   "source": [
    "y_errors=np.array([1.3, 1.2, 1])\n",
    "x_errors=np.array([1.1, 1.1, 1])\n",
    "\n",
    "alpha_eqv_i=np.sqrt(y_errors**2+x_errors**2)\n",
    "print('Error after removing x', alpha_eqv_i)\n",
    "\n",
    "\n"
   ]
  },
  {
   "cell_type": "code",
   "execution_count": 155,
   "id": "fd1b3421",
   "metadata": {},
   "outputs": [
    {
     "name": "stdout",
     "output_type": "stream",
     "text": [
      "Best fit: 0.06630667834282143\n",
      "uncertainties for our best fit: 0.9045474091709342\n",
      "Focal length is 15.1 +- 0.9 cm\n",
      "best-fit parameters:  [0.06667687]\n"
     ]
    }
   ],
   "source": [
    "weights = 1/alpha_eqv_i**2\n",
    "sum_ofx=sum(weights*x)\n",
    "sum_ofy=sum(weights*y)\n",
    "sum_of_weights=sum(weights)\n",
    "best_fit=(sum_ofx+sum_ofy)/sum_of_weights\n",
    "print('Best fit:',best_fit)\n",
    "print('uncertainties for our best fit:', 1/np.sqrt(sum_of_weights))\n",
    "\n",
    "#Best fit is actually the focal length. \n",
    "print('Focal length is', np.round(1/best_fit, 1),'+-', np.round(1/np.sqrt(sum_of_weights),1), 'cm')\n",
    "\n",
    "#Checking with scipy\n",
    "popt, pcov = scipy.optimize.curve_fit(ex3model, x, y)\n",
    "print('best-fit parameters: ', popt)"
   ]
  }
 ],
 "metadata": {
  "kernelspec": {
   "display_name": "Python 3",
   "language": "python",
   "name": "python3"
  },
  "language_info": {
   "codemirror_mode": {
    "name": "ipython",
    "version": 3
   },
   "file_extension": ".py",
   "mimetype": "text/x-python",
   "name": "python",
   "nbconvert_exporter": "python",
   "pygments_lexer": "ipython3",
   "version": "3.8.8"
  }
 },
 "nbformat": 4,
 "nbformat_minor": 5
}
