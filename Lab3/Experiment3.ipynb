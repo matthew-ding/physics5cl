{
 "cells": [
  {
   "cell_type": "code",
   "execution_count": 46,
   "id": "17caa6a8-7034-4cf0-8b3e-535988fb73d1",
   "metadata": {},
   "outputs": [],
   "source": [
    "# Source: https://faculty1.coloradocollege.edu/~sburns/LinearFitting/SimpleDataFittingWithError.html\n",
    "\n",
    "import numpy as np\n",
    "import matplotlib.pyplot as plt\n",
    "from scipy.optimize import curve_fit"
   ]
  },
  {
   "cell_type": "markdown",
   "id": "c09d6c40-5bbb-47fe-8fa7-4a966451f53e",
   "metadata": {},
   "source": [
    "# Experiment 3"
   ]
  },
  {
   "cell_type": "code",
   "execution_count": 51,
   "id": "2b1bd01f-d6e3-4921-80ab-adf92efa1cc2",
   "metadata": {},
   "outputs": [
    {
     "data": {
      "image/png": "[encoded data removed]",
      "text/plain": [
       "<Figure size 432x288 with 1 Axes>"
      ]
     },
     "metadata": {
      "needs_background": "light"
     },
     "output_type": "display_data"
    },
    {
     "name": "stdout",
     "output_type": "stream",
     "text": [
      "The slope = 0.225, with uncertainty 0.035\n",
      "The intercept = 0.072, with uncertainty 0.076\n",
      "Reduced chi^2 = 0.015\n"
     ]
    }
   ],
   "source": [
    "def linearFunc(x,intercept,slope):\n",
    "    y = intercept + slope * x\n",
    "    return y\n",
    "\n",
    "\n",
    "# Slit Width 8 pts\n",
    "m = np.array([1,2,3])\n",
    "distance = np.array([np.mean([0.3, 0.3, 0.3, 0.3]), np.mean([0.5, 0.55, 0.5, 0.52]), np.mean([0.75, 0.75, 0.75, 0.75])])  # cm\n",
    "\n",
    "# standard error\n",
    "yerr = np.array([np.std([0.3, 0.3, 0.3, 0.3]), np.std([0.5, 0.55, 0.5, 0.52]), np.std([0.75, 0.75, 0.75, 0.75])]) / np.sqrt(3)\n",
    "yerr = np.maximum(yerr, [0.05, 0.05, 0.05])  # measurement uncertainty\n",
    "plt.errorbar(m, distance, yerr=yerr, fmt='.',label='Data')\n",
    "plt.xlabel('Order of Minima')\n",
    "plt.ylabel('End to end Distance (cm)')\n",
    "plt.title('Diffraction Lengths')\n",
    "\n",
    "a_fit,cov=curve_fit(linearFunc,m,distance,sigma=yerr,absolute_sigma=True)\n",
    "inter = a_fit[0]\n",
    "slope = a_fit[1]\n",
    "yfit = inter + slope*m\n",
    "plt.plot(m,yfit,label='Fit')\n",
    "d_inter = np.sqrt(cov[0][0])\n",
    "d_slope = np.sqrt(cov[1][1])\n",
    "plt.legend()\n",
    "plt.show()\n",
    "\n",
    "print(f'The slope = {np.round(slope, 3)}, with uncertainty {np.round(d_slope, 3)}')\n",
    "print(f'The intercept = {np.round(inter, 3)}, with uncertainty {np.round(d_inter, 3)}')\n",
    "\n",
    "chisqr = sum((distance-linearFunc(m,inter,slope))**2/yerr**2)\n",
    "dof = len(distance) - 2\n",
    "chisqr_red = chisqr/dof\n",
    "print(f'Reduced chi^2 = {np.round(chisqr_red, 3)}')"
   ]
  },
  {
   "cell_type": "code",
   "execution_count": null,
   "id": "8068ca8e-3bb7-4417-a770-38e9275b8e60",
   "metadata": {},
   "outputs": [],
   "source": []
  }
 ],
 "metadata": {
  "kernelspec": {
   "display_name": "Python 3 (ipykernel)",
   "language": "python",
   "name": "python3"
  },
  "language_info": {
   "codemirror_mode": {
    "name": "ipython",
    "version": 3
   },
   "file_extension": ".py",
   "mimetype": "text/x-python",
   "name": "python",
   "nbconvert_exporter": "python",
   "pygments_lexer": "ipython3",
   "version": "3.10.1"
  }
 },
 "nbformat": 4,
 "nbformat_minor": 5
}
