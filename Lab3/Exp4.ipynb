{
 "cells": [
  {
   "cell_type": "code",
   "execution_count": 2,
   "id": "a6be84b9",
   "metadata": {},
   "outputs": [],
   "source": [
    "import numpy as np\n",
    "import scipy\n",
    "import scipy.optimize as opt\n",
    "from scipy.interpolate import interp1d\n",
    "import matplotlib\n",
    "import math\n",
    "import matplotlib.pyplot as plt"
   ]
  },
  {
   "cell_type": "markdown",
   "id": "cf001207",
   "metadata": {},
   "source": [
    "# Experiment 4\n"
   ]
  },
  {
   "cell_type": "code",
   "execution_count": 3,
   "id": "37662648",
   "metadata": {},
   "outputs": [],
   "source": [
    "point_width = 0.04393 *10**-1\n",
    "wavelength = 635"
   ]
  },
  {
   "cell_type": "code",
   "execution_count": 4,
   "id": "335ff203",
   "metadata": {},
   "outputs": [],
   "source": [
    "def model(A, m):\n",
    "    return A*m"
   ]
  },
  {
   "cell_type": "markdown",
   "id": "fdb8ac76",
   "metadata": {},
   "source": [
    "### 39 Gauge Wire"
   ]
  },
  {
   "cell_type": "code",
   "execution_count": 5,
   "id": "5a57e497",
   "metadata": {},
   "outputs": [],
   "source": [
    "distance = 52.5\n",
    "uncertainty = 0.2\n",
    "diameter = 8.97*10**-5"
   ]
  },
  {
   "cell_type": "code",
   "execution_count": 6,
   "id": "507d4b6c",
   "metadata": {},
   "outputs": [],
   "source": [
    "m1 = np.array([0.7, 0.7, 0.75])\n",
    "m2 = np.array([1.2, 1.3, 1.25])\n",
    "m3 = np.array([1.9, 1.9, 1.9])\n",
    "m4 = np.array([2.5, 2.5, 2.5])\n",
    "\n",
    "m=np.array([1,2,3,4])\n",
    "\n",
    "errorbarwire = np.array([np.std(m1)/np.sqrt(3), np.std(m2)/np.sqrt(3), 0.01, 0.01])\n",
    "\n",
    "sin = np.array([np.mean(m1)/np.sqrt(np.mean(m1)**2+distance**2), np.mean(m2)/np.sqrt(np.mean(m2)**2+distance**2), np.mean(m3)/np.sqrt(np.mean(m3)**2+distance**2), np.mean(m4)/np.sqrt(np.mean(m4)**2+distance**2)]) \n",
    "\n",
    "\n"
   ]
  },
  {
   "cell_type": "code",
   "execution_count": 7,
   "id": "1e5509ba",
   "metadata": {},
   "outputs": [
    {
     "data": {
      "text/plain": [
       "Text(0.5, 1.0, 'Diffraction angles for 39-gauge wire')"
      ]
     },
     "execution_count": 7,
     "metadata": {},
     "output_type": "execute_result"
    },
    {
     "data": {
      "image/png": "[encoded data removed]",
      "text/plain": [
       "<Figure size 576x576 with 1 Axes>"
      ]
     },
     "metadata": {
      "needs_background": "light"
     },
     "output_type": "display_data"
    }
   ],
   "source": [
    "fig, ax = plt.subplots(figsize=(8,8))\n",
    "ax.plot(m, sin,'o')\n",
    "ax.errorbar(m, sin, yerr = errorbarwire)\n",
    "ax.set_ylabel('sin(theta)')\n",
    "ax.set_xlabel('Diffraction order')\n",
    "ax.set_xlim(0,4.2)\n",
    "ax.set_title('Diffraction angles for 39-gauge wire')"
   ]
  },
  {
   "cell_type": "markdown",
   "id": "6eed8810",
   "metadata": {},
   "source": [
    " Since $m\\lambda = d\\sin{\\theta}$ or $\\sin{\\theta}= \\frac{\\lambda}{d}m$. As seen above, diffraction order vs $\\sin{\\theta}$ is a linear plot (as expected). Fitting it with the linear model:"
   ]
  },
  {
   "cell_type": "code",
   "execution_count": 13,
   "id": "005cb141",
   "metadata": {},
   "outputs": [
    {
     "name": "stdout",
     "output_type": "stream",
     "text": [
      "Model is A*m where x is A is [0.012] +- 0.0\n",
      "Reduced Chi-Square 0.066\n"
     ]
    }
   ],
   "source": [
    "\n",
    "popt, pcov = scipy.optimize.curve_fit(model, m, sin)\n",
    "A = popt\n",
    "# print('best-fit parameters: ', A)\n",
    "popt_uncertainties = np.sqrt(np.diag(pcov)) \n",
    "# print('uncertainties for our parameters: ', popt_uncertainties) \n",
    "print('Model is A*m where x is A is', np.round(A,3), '+-', np.round(popt_uncertainties[0],3))\n",
    "weights=1/np.sqrt((errorbarwire)**2)\n",
    "chi_squared_reduced = (sum(weights*((wavelength*10**-9/diameter)*m - popt*m)**2))/1\n",
    "print('Reduced Chi-Square', np.round(chi_squared_reduced,3)) #degree of freedom = 3-2=1"
   ]
  },
  {
   "cell_type": "markdown",
   "id": "246f78f2",
   "metadata": {},
   "source": [
    "Repeating the same analysis for the 26 Gauge Wire:"
   ]
  },
  {
   "cell_type": "markdown",
   "id": "8302458e",
   "metadata": {},
   "source": [
    "### 26 Gauge Wire"
   ]
  },
  {
   "cell_type": "code",
   "execution_count": null,
   "id": "860f6868",
   "metadata": {},
   "outputs": [],
   "source": [
    "distance = 300\n",
    "uncertainty = 10\n",
    "diameter = 4.05*10**-2"
   ]
  },
  {
   "cell_type": "code",
   "execution_count": 9,
   "id": "cb068279",
   "metadata": {},
   "outputs": [],
   "source": [
    "m1 = np.array([0.95, 0.95, 0.95])\n",
    "m2 = np.array([1.85, 1.8, 1.85])\n",
    "m3 = np.array([2.75, 2.75, 2.77])\n",
    "m4 = np.array([3.7, 3.7, 3.7])\n",
    "\n",
    "m=np.array([1,2,3,4])\n",
    "\n",
    "errorbarwire = np.array([0.01, np.std(m2)/np.sqrt(3),np.std(m3)/np.sqrt(3), 0.01])\n",
    "\n",
    "sin = np.array([np.mean(m1)/np.sqrt(np.mean(m1)**2+distance**2), np.mean(m2)/np.sqrt(np.mean(m2)**2+distance**2), np.mean(m3)/np.sqrt(np.mean(m3)**2+distance**2), np.mean(m4)/np.sqrt(np.mean(m4)**2+distance**2)]) \n"
   ]
  },
  {
   "cell_type": "code",
   "execution_count": 8,
   "id": "ec36b44e",
   "metadata": {},
   "outputs": [
    {
     "data": {
      "text/plain": [
       "Text(0.5, 1.0, 'Diffraction angles for 26-gauge wire')"
      ]
     },
     "execution_count": 8,
     "metadata": {},
     "output_type": "execute_result"
    },
    {
     "data": {
      "image/png": "[encoded data removed]",
      "text/plain": [
       "<Figure size 576x576 with 1 Axes>"
      ]
     },
     "metadata": {
      "needs_background": "light"
     },
     "output_type": "display_data"
    }
   ],
   "source": [
    "fig, ax = plt.subplots(figsize=(8,8))\n",
    "ax.plot(m, sin,'o')\n",
    "ax.errorbar(m, sin, yerr = errorbarwire)\n",
    "ax.set_ylabel('sin(theta)')\n",
    "ax.set_xlabel('Diffraction order')\n",
    "ax.set_xlim(0,4.2)\n",
    "ax.set_title('Diffraction angles for 26-gauge wire')"
   ]
  },
  {
   "cell_type": "markdown",
   "id": "bce91dea",
   "metadata": {},
   "source": [
    "So the 26 Gauge Wire will function most like a single slit of 8 points. Following is the single slit (2 points) data:"
   ]
  },
  {
   "cell_type": "code",
   "execution_count": 14,
   "id": "b3e6c9b9",
   "metadata": {},
   "outputs": [
    {
     "name": "stdout",
     "output_type": "stream",
     "text": [
      "Model is A*m where x is A is [0.012] +- 0.0\n",
      "Reduced Chi-Square 0.066\n"
     ]
    }
   ],
   "source": [
    "\n",
    "popt, pcov = scipy.optimize.curve_fit(model, m, sin)\n",
    "A = popt\n",
    "# print('best-fit parameters: ', np.round(A,3))\n",
    "popt_uncertainties = np.sqrt(np.diag(pcov)) \n",
    "# print('uncertainties for our parameters: ', np.round(popt_uncertainties,3)) \n",
    "print('Model is A*m where x is A is', np.round(A,3), '+-', np.round(popt_uncertainties[0],3))\n",
    "weights=1/np.sqrt((errorbarwire)**2)\n",
    "chi_squared_reduced = (sum(weights*((wavelength*10**-9/diameter)*m - popt*m)**2))/1\n",
    "print('Reduced Chi-Square', np.round(chi_squared_reduced,3)) #degree of freedom = 3-2=1"
   ]
  },
  {
   "cell_type": "code",
   "execution_count": null,
   "id": "2ba48a10-951b-4c44-a1f4-e23c1b089758",
   "metadata": {},
   "outputs": [],
   "source": []
  }
 ],
 "metadata": {
  "kernelspec": {
   "display_name": "Python 3 (ipykernel)",
   "language": "python",
   "name": "python3"
  },
  "language_info": {
   "codemirror_mode": {
    "name": "ipython",
    "version": 3
   },
   "file_extension": ".py",
   "mimetype": "text/x-python",
   "name": "python",
   "nbconvert_exporter": "python",
   "pygments_lexer": "ipython3",
   "version": "3.10.1"
  }
 },
 "nbformat": 4,
 "nbformat_minor": 5
}
