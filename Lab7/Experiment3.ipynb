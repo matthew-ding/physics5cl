{
 "cells": [
  {
   "cell_type": "code",
   "execution_count": 11,
   "id": "06a904d6-3470-417b-b4fd-bc744a412ed1",
   "metadata": {},
   "outputs": [],
   "source": [
    "import numpy as np\n",
    "import matplotlib.pyplot as plt\n",
    "from scipy.optimize import curve_fit\n",
    "\n",
    "def linearFunc(x,intercept,slope):\n",
    "    y = intercept + slope * x\n",
    "    return y"
   ]
  },
  {
   "cell_type": "code",
   "execution_count": 55,
   "id": "e31798f7-13d2-48ac-b5d2-94bee3496e23",
   "metadata": {},
   "outputs": [
    {
     "name": "stdout",
     "output_type": "stream",
     "text": [
      "Experimental Absolute Zero (Data Set 1): -207.71199323107487 +/- 26.725339136529303\n",
      "Experimental Absolute Zero (Data Set 2): -99.03985591733112 +/- 41.06019028689964\n"
     ]
    },
    {
     "data": {
      "image/png": "[encoded data removed]",
      "text/plain": [
       "<Figure size 432x288 with 1 Axes>"
      ]
     },
     "metadata": {
      "needs_background": "light"
     },
     "output_type": "display_data"
    }
   ],
   "source": [
    "temp_final = np.array([0, 21.8, 9.7, 28.4, 33.9 ,37, 45.3])  # celsius\n",
    "temp_initial = np.array([22.9]*7) # room temp (celsius)\n",
    "temp_err = 1\n",
    "volume_err = 1 + 4.15 * np.sqrt((0.0162/(3.25/2)**2)**2 + (0.01/(0.5+height_final))**2) - 0.09\n",
    "y_err = np.sqrt(temp_err**2 + volume_err**2)\n",
    "\n",
    "volume_at_zero = 208  # cm^3\n",
    "area_of_chamber = np.pi*3.25**2\n",
    "height_initial = np.array([75, 75, 75, 10, 10, 10, 19]) / 10\n",
    "height_final = np.array([61, 74, 67, 12.5, 16, 17.5, 28]) / 10\n",
    "volume_initial = volume_at_zero + area_of_chamber*height_initial\n",
    "volume_final = volume_at_zero + area_of_chamber*height_final\n",
    "plt.errorbar(volume_final[0:3], temp_final[0:3], label='data set 1', fmt='.', yerr=y_err[0:3])\n",
    "plt.errorbar(volume_final[3:6], temp_final[3:6], label='data set 2', fmt='.', yerr=y_err[3:6])\n",
    "\n",
    "# a_fit,cov=curve_fit(linearFunc,m,distance,sigma=yerr,absolute_sigma=True)\n",
    "a_fit1, cov1 =curve_fit(linearFunc,volume_final[0:3],temp_final[0:3], sigma=y_err[0:3],absolute_sigma=True)\n",
    "inter1 = a_fit1[0]\n",
    "slope1 = a_fit1[1]\n",
    "yfit1 = inter1 + volume_final[0:3]*slope1\n",
    "plt.plot(volume_final[0:3],yfit1)\n",
    "\n",
    "a_fit2, cov2 =curve_fit(linearFunc,volume_final[3:6],temp_final[3:6], sigma=y_err[3:6],absolute_sigma=True)\n",
    "inter2 = a_fit2[0]\n",
    "slope2 = a_fit2[1]\n",
    "yfit2 = inter2 + volume_final[3:6]*slope2\n",
    "plt.plot(volume_final[3:6],yfit2)\n",
    "plt.legend()\n",
    "plt.title('Experimental Verification of Charles Law')\n",
    "plt.xlabel('Volume (mL)')\n",
    "plt.ylabel('Temperature (Celsius)')\n",
    "\n",
    "\n",
    "d_inter_1 = np.sqrt(cov1[0][0])\n",
    "d_slope_1 = np.sqrt(cov1[1][1])\n",
    "d_final_1 = np.sqrt(d_inter_1**2+(d_slope_1*volume_final[0])**2)\n",
    "\n",
    "d_inter_2 = np.sqrt(cov2[0][0])\n",
    "d_slope_2 = np.sqrt(cov2[1][1])\n",
    "d_final_2 = np.sqrt(d_inter_2**2+(d_slope_2*volume_final[3])**2)\n",
    "\n",
    "print(f'Experimental Absolute Zero (Data Set 1): {inter1} +/- {d_final_1}')\n",
    "print(f'Experimental Absolute Zero (Data Set 2): {inter2} +/- {d_final_2}')"
   ]
  },
  {
   "cell_type": "code",
   "execution_count": 53,
   "id": "eb1c41b8-b8cf-4008-b1f5-63d4089ad309",
   "metadata": {},
   "outputs": [
    {
     "name": "stdout",
     "output_type": "stream",
     "text": [
      "Experimental Absolute Zero (Data Set 1): -207.71199323107487 +/- 26.725339136529303\n",
      "Experimental Absolute Zero (Data Set 2): -99.03985591733112 +/- 41.06019028689964\n"
     ]
    }
   ],
   "source": [
    "\n",
    "\n",
    "\n"
   ]
  },
  {
   "cell_type": "code",
   "execution_count": null,
   "id": "f3c44c84-641f-4515-bbfe-6f1395ae24b6",
   "metadata": {},
   "outputs": [],
   "source": []
  }
 ],
 "metadata": {
  "kernelspec": {
   "display_name": "Python 3 (ipykernel)",
   "language": "python",
   "name": "python3"
  },
  "language_info": {
   "codemirror_mode": {
    "name": "ipython",
    "version": 3
   },
   "file_extension": ".py",
   "mimetype": "text/x-python",
   "name": "python",
   "nbconvert_exporter": "python",
   "pygments_lexer": "ipython3",
   "version": "3.10.1"
  }
 },
 "nbformat": 4,
 "nbformat_minor": 5
}
